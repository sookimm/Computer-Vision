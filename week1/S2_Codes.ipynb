{
 "cells": [
  {
   "cell_type": "markdown",
   "metadata": {},
   "source": [
    "## Reading Image"
   ]
  },
  {
   "cell_type": "code",
   "execution_count": 4,
   "metadata": {},
   "outputs": [],
   "source": [
    "import cv2\n",
    "import numpy as np"
   ]
  },
  {
   "cell_type": "code",
   "execution_count": 2,
   "metadata": {},
   "outputs": [
    {
     "name": "stdout",
     "output_type": "stream",
     "text": [
      "[[[179 208 217]\n",
      "  [178 207 216]\n",
      "  [176 207 216]\n",
      "  ...\n",
      "  [210 222 232]\n",
      "  [210 222 232]\n",
      "  [209 221 231]]\n",
      "\n",
      " [[179 208 217]\n",
      "  [178 207 216]\n",
      "  [176 207 216]\n",
      "  ...\n",
      "  [210 222 232]\n",
      "  [210 222 232]\n",
      "  [210 222 232]]\n",
      "\n",
      " [[179 208 217]\n",
      "  [178 207 216]\n",
      "  [175 206 215]\n",
      "  ...\n",
      "  [210 222 232]\n",
      "  [210 222 232]\n",
      "  [210 222 234]]\n",
      "\n",
      " ...\n",
      "\n",
      " [[118 152 182]\n",
      "  [119 153 183]\n",
      "  [121 155 185]\n",
      "  ...\n",
      "  [197 213 225]\n",
      "  [197 213 225]\n",
      "  [197 213 225]]\n",
      "\n",
      " [[117 151 181]\n",
      "  [118 152 182]\n",
      "  [120 154 184]\n",
      "  ...\n",
      "  [197 213 225]\n",
      "  [197 213 225]\n",
      "  [196 212 224]]\n",
      "\n",
      " [[116 150 180]\n",
      "  [117 151 181]\n",
      "  [119 153 183]\n",
      "  ...\n",
      "  [197 213 225]\n",
      "  [197 213 225]\n",
      "  [198 214 226]]]\n"
     ]
    }
   ],
   "source": [
    "image = cv2.imread(\"Cat.jpg\")\n",
    "print(image) # This is Numpy Arrays"
   ]
  },
  {
   "cell_type": "markdown",
   "metadata": {},
   "source": [
    "## Showing Image"
   ]
  },
  {
   "cell_type": "code",
   "execution_count": null,
   "metadata": {},
   "outputs": [
    {
     "name": "stderr",
     "output_type": "stream",
     "text": [
      "2025-01-13 15:53:24.201 Python[70674:8624847] +[IMKClient subclass]: chose IMKClient_Modern\n",
      "2025-01-13 15:53:24.201 Python[70674:8624847] +[IMKInputSession subclass]: chose IMKInputSession_Modern\n"
     ]
    },
    {
     "data": {
      "text/plain": [
       "-1"
      ]
     },
     "execution_count": 3,
     "metadata": {},
     "output_type": "execute_result"
    }
   ],
   "source": [
    "cv2.imshow(\"cat\", image)\n",
    "cv2.waitKey(0)"
   ]
  },
  {
   "cell_type": "code",
   "execution_count": 6,
   "metadata": {},
   "outputs": [
    {
     "data": {
      "text/plain": [
       "(1024, 1025, 3)"
      ]
     },
     "execution_count": 6,
     "metadata": {},
     "output_type": "execute_result"
    }
   ],
   "source": [
    "# (height, width, channels)\n",
    "image.shape"
   ]
  },
  {
   "cell_type": "markdown",
   "metadata": {},
   "source": [
    "#### Channels = BRG (0, 1, 2)"
   ]
  },
  {
   "cell_type": "code",
   "execution_count": 7,
   "metadata": {},
   "outputs": [
    {
     "data": {
      "text/plain": [
       "array([[208, 207, 207, ..., 222, 222, 221],\n",
       "       [208, 207, 207, ..., 222, 222, 222],\n",
       "       [208, 207, 206, ..., 222, 222, 222],\n",
       "       ...,\n",
       "       [152, 153, 155, ..., 213, 213, 213],\n",
       "       [151, 152, 154, ..., 213, 213, 212],\n",
       "       [150, 151, 153, ..., 213, 213, 214]],\n",
       "      shape=(1024, 1025), dtype=uint8)"
      ]
     },
     "execution_count": 7,
     "metadata": {},
     "output_type": "execute_result"
    }
   ],
   "source": [
    "# ':' means all of the rows or columns\n",
    "image[:, :, 1] "
   ]
  },
  {
   "cell_type": "code",
   "execution_count": 8,
   "metadata": {},
   "outputs": [],
   "source": [
    "green_image = image[:, :, 1]"
   ]
  },
  {
   "cell_type": "code",
   "execution_count": null,
   "metadata": {},
   "outputs": [
    {
     "name": "stderr",
     "output_type": "stream",
     "text": [
      "2025-01-13 16:23:31.451 Python[70674:8624847] _TIPropertyValueIsValid called with 16 on nil context!\n",
      "2025-01-13 16:23:31.451 Python[70674:8624847] imkxpc_getApplicationProperty:reply: called with incorrect property value 16, bailing.\n",
      "2025-01-13 16:23:31.451 Python[70674:8624847] Text input context does not respond to _valueForTIProperty:\n"
     ]
    },
    {
     "data": {
      "text/plain": [
       "-1"
      ]
     },
     "execution_count": 10,
     "metadata": {},
     "output_type": "execute_result"
    }
   ],
   "source": [
    "cv2.imshow('green image', green_image)\n",
    "cv2.waitKey(0)"
   ]
  },
  {
   "cell_type": "markdown",
   "metadata": {},
   "source": [
    "## Saving Image"
   ]
  },
  {
   "cell_type": "code",
   "execution_count": 11,
   "metadata": {},
   "outputs": [
    {
     "data": {
      "text/plain": [
       "True"
      ]
     },
     "execution_count": 11,
     "metadata": {},
     "output_type": "execute_result"
    }
   ],
   "source": [
    "cv2.imwrite(\"Cat_green.jpg\", green_image)"
   ]
  },
  {
   "cell_type": "markdown",
   "metadata": {},
   "source": [
    "## Closing Window"
   ]
  },
  {
   "cell_type": "code",
   "execution_count": 21,
   "metadata": {},
   "outputs": [],
   "source": [
    "cv2.destroyWindow(\"green image\")"
   ]
  },
  {
   "cell_type": "code",
   "execution_count": 17,
   "metadata": {},
   "outputs": [],
   "source": [
    "cv2.destroyAllWindows()"
   ]
  },
  {
   "cell_type": "markdown",
   "metadata": {},
   "source": [
    "## Numpy Arrays\n",
    "- Core data structure for images in OpenCV\n",
    "- Represent images as multi-dimensional arrays:\n",
    "- Grayscale: 2D (Height * Width)\n",
    "- Colour: 3D (Height * Width * Channels)"
   ]
  },
  {
   "cell_type": "code",
   "execution_count": 27,
   "metadata": {},
   "outputs": [
    {
     "data": {
      "text/plain": [
       "array([222, 238, 244], dtype=uint8)"
      ]
     },
     "execution_count": 27,
     "metadata": {},
     "output_type": "execute_result"
    }
   ],
   "source": [
    "image[60, 70]"
   ]
  },
  {
   "cell_type": "code",
   "execution_count": 29,
   "metadata": {},
   "outputs": [
    {
     "data": {
      "text/plain": [
       "np.uint8(222)"
      ]
     },
     "execution_count": 29,
     "metadata": {},
     "output_type": "execute_result"
    }
   ],
   "source": [
    "image[60, 70, 0]"
   ]
  },
  {
   "cell_type": "code",
   "execution_count": 33,
   "metadata": {},
   "outputs": [
    {
     "name": "stdout",
     "output_type": "stream",
     "text": [
      "(1024, 1025, 3)\n"
     ]
    }
   ],
   "source": [
    "print(image.shape)\n",
    "image[10:500, 50:600, :] = 0  # zero stands for black colour"
   ]
  },
  {
   "cell_type": "code",
   "execution_count": 34,
   "metadata": {},
   "outputs": [
    {
     "data": {
      "text/plain": [
       "np.uint8(0)"
      ]
     },
     "execution_count": 34,
     "metadata": {},
     "output_type": "execute_result"
    }
   ],
   "source": [
    "image[60, 70, 0]"
   ]
  },
  {
   "cell_type": "code",
   "execution_count": 36,
   "metadata": {},
   "outputs": [
    {
     "data": {
      "text/plain": [
       "-1"
      ]
     },
     "execution_count": 36,
     "metadata": {},
     "output_type": "execute_result"
    }
   ],
   "source": [
    "cv2.imshow('framename', image)\n",
    "cv2.waitKey(0)"
   ]
  },
  {
   "cell_type": "markdown",
   "metadata": {},
   "source": [
    "## Exercise"
   ]
  },
  {
   "cell_type": "code",
   "execution_count": 38,
   "metadata": {},
   "outputs": [
    {
     "data": {
      "text/plain": [
       "79"
      ]
     },
     "execution_count": 38,
     "metadata": {},
     "output_type": "execute_result"
    },
    {
     "ename": "",
     "evalue": "",
     "output_type": "error",
     "traceback": [
      "\u001b[1;31mThe Kernel crashed while executing code in the current cell or a previous cell. \n",
      "\u001b[1;31mPlease review the code in the cell(s) to identify a possible cause of the failure. \n",
      "\u001b[1;31mClick <a href='https://aka.ms/vscodeJupyterKernelCrash'>here</a> for more info. \n",
      "\u001b[1;31mView Jupyter <a href='command:jupyter.viewOutput'>log</a> for further details."
     ]
    }
   ],
   "source": [
    "# read image\n",
    "image = cv2.imread(\"Cat.jpg\")\n",
    "\n",
    "# ROI(Region of Interest) definition [y1:y2, x1:x2]\n",
    "roi = image[50:150, 100:200]  # slicing\n",
    "\n",
    "# paste ROI to another location\n",
    "image[200:300, 300:400] = roi\n",
    "\n",
    "# show the result\n",
    "cv2.imshow(\"Modified Image\", image)\n",
    "cv2.waitKey(0)\n",
    "# cv2.destroyAllWindows()"
   ]
  }
 ],
 "metadata": {
  "kernelspec": {
   "display_name": "computer_vision_venv",
   "language": "python",
   "name": "python3"
  },
  "language_info": {
   "codemirror_mode": {
    "name": "ipython",
    "version": 3
   },
   "file_extension": ".py",
   "mimetype": "text/x-python",
   "name": "python",
   "nbconvert_exporter": "python",
   "pygments_lexer": "ipython3",
   "version": "3.12.3"
  }
 },
 "nbformat": 4,
 "nbformat_minor": 2
}
